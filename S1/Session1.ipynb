{
 "cells": [
  {
   "cell_type": "markdown",
   "id": "33d8f33c",
   "metadata": {},
   "source": [
    "## Part 1: Virtual Environments\n",
    "\n",
    "#### Why Use Virtual Environments?\n",
    "- **Isolation**: Avoids conflicts between dependencies of different projects.\n",
    "- **Reproducibility**: Ensures that the same environment can be reproduced anywhere.\n",
    "- **Cleanliness**: Keeps the global site-packages directory clean and manageable.\n",
    "\n",
    "### Setting Up and Using Virtualenv in Windows\n",
    "\n",
    "1. **Install virtualenv**:\n",
    "    ```cmd\n",
    "    pip install virtualenv\n",
    "    ```\n",
    "\n",
    "2. **Create a Virtual Environment**:\n",
    "    ```cmd\n",
    "    virtualenv myenv\n",
    "    ```\n",
    "\n",
    "3. **Activate the Virtual Environment**:\n",
    "    ```cmd\n",
    "    myenv\\Scripts\\activate\n",
    "    ```cmd\n",
    "\n",
    "4. **Install Dependencies in the Virtual Environment**:\n",
    "    ```cmd\n",
    "    pip install wheel\n",
    "    pip install jupyter\n",
    "    ```\n",
    "    \n",
    "5. **Install Jupyter Kernel for the Virtual Environment**:\n",
    "    ```cmd\n",
    "    pip install ipykernel\n",
    "    python -m ipykernel install --user --name=myenv --display-name=\"Python 3.10 (myenv)\"\n",
    "    ```\n",
    "\n",
    "\n",
    "6. **Deactivate the Virtual Environment**:\n",
    "    ```cmd\n",
    "    deactivate\n",
    "    ```\n",
    "\n",
    "### Setting Up and Using Virtualenv in Ubuntu\n",
    "\n",
    "1. **Install virtualenv**:\n",
    "    ```bash\n",
    "    sudo apt-get install python3-venv\n",
    "    ```\n",
    "\n",
    "2. **Create a Virtual Environment**:\n",
    "    ```bash\n",
    "    python3 -m venv myenv\n",
    "    ```\n",
    "\n",
    "3. **Activate the Virtual Environment**:\n",
    "    ```bash\n",
    "    source myenv/bin/activate\n",
    "    ```\n",
    "\n",
    "4. **Install Dependencies in the Virtual Environment**:\n",
    "    ```bash\n",
    "    pip install wheel\n",
    "    pip install jupyter\n",
    "    ```\n",
    "    \n",
    "5. **Install Jupyter Kernel for the Virtual Environment**:\n",
    "    ```bash\n",
    "    pip install ipykernel\n",
    "    python -m ipykernel install --user --name=myenv --display-name=\"Python 3.10 (myenv)\"\n",
    "    ```\n",
    "\n",
    "\n",
    "6. **Deactivate the Virtual Environment**:\n",
    "    ```bash\n",
    "    deactivate\n",
    "    ```\n",
    "\n"
   ]
  },
  {
   "cell_type": "markdown",
   "id": "2aca1966",
   "metadata": {},
   "source": [
    "## Part 2: Data Manipulation with Pandas\n",
    "\n",
    "**Overview**: Pandas is a powerful library for data manipulation and analysis. It provides data structures like DataFrame, which is ideal for handling structured data.\n",
    "\n",
    "\n",
    "**Key Concepts**:\n",
    "- Creating and manipulating DataFrames.\n",
    "- Data selection and filtering.\n",
    "- Handling missing data."
   ]
  },
  {
   "cell_type": "code",
   "execution_count": 1,
   "id": "da7ffc43",
   "metadata": {},
   "outputs": [
    {
     "name": "stdout",
     "output_type": "stream",
     "text": [
      "Simulated Data\n",
      "\n",
      "DataFrame:\n"
     ]
    },
    {
     "data": {
      "text/html": [
       "<div>\n",
       "<style scoped>\n",
       "    .dataframe tbody tr th:only-of-type {\n",
       "        vertical-align: middle;\n",
       "    }\n",
       "\n",
       "    .dataframe tbody tr th {\n",
       "        vertical-align: top;\n",
       "    }\n",
       "\n",
       "    .dataframe thead th {\n",
       "        text-align: right;\n",
       "    }\n",
       "</style>\n",
       "<table border=\"1\" class=\"dataframe\">\n",
       "  <thead>\n",
       "    <tr style=\"text-align: right;\">\n",
       "      <th></th>\n",
       "      <th>Name</th>\n",
       "      <th>Age</th>\n",
       "      <th>City</th>\n",
       "    </tr>\n",
       "  </thead>\n",
       "  <tbody>\n",
       "    <tr>\n",
       "      <th>0</th>\n",
       "      <td>Alice</td>\n",
       "      <td>24</td>\n",
       "      <td>New York</td>\n",
       "    </tr>\n",
       "    <tr>\n",
       "      <th>1</th>\n",
       "      <td>Bob</td>\n",
       "      <td>27</td>\n",
       "      <td>Los Angeles</td>\n",
       "    </tr>\n",
       "    <tr>\n",
       "      <th>2</th>\n",
       "      <td>Charlie</td>\n",
       "      <td>22</td>\n",
       "      <td>Chicago</td>\n",
       "    </tr>\n",
       "  </tbody>\n",
       "</table>\n",
       "</div>"
      ],
      "text/plain": [
       "      Name  Age         City\n",
       "0    Alice   24     New York\n",
       "1      Bob   27  Los Angeles\n",
       "2  Charlie   22      Chicago"
      ]
     },
     "metadata": {},
     "output_type": "display_data"
    }
   ],
   "source": [
    "import pandas as pd\n",
    "from IPython.display import display, HTML\n",
    "\n",
    "# Simulated data\n",
    "print(\"Simulated Data\\n\")\n",
    "\n",
    "# Creating DataFrame from dictionary\n",
    "data = {'Name': ['Alice', 'Bob', 'Charlie'],\n",
    "        'Age': [24, 27, 22],\n",
    "        'City': ['New York', 'Los Angeles', 'Chicago']}\n",
    "df_sim = pd.DataFrame(data)\n",
    "print(\"DataFrame:\")\n",
    "display(df_sim)"
   ]
  },
  {
   "cell_type": "code",
   "execution_count": 2,
   "id": "2485f88e",
   "metadata": {},
   "outputs": [
    {
     "name": "stdout",
     "output_type": "stream",
     "text": [
      "Selecting the 'Name' column:\n",
      "\n"
     ]
    },
    {
     "data": {
      "text/html": [
       "<div>\n",
       "<style scoped>\n",
       "    .dataframe tbody tr th:only-of-type {\n",
       "        vertical-align: middle;\n",
       "    }\n",
       "\n",
       "    .dataframe tbody tr th {\n",
       "        vertical-align: top;\n",
       "    }\n",
       "\n",
       "    .dataframe thead th {\n",
       "        text-align: right;\n",
       "    }\n",
       "</style>\n",
       "<table border=\"1\" class=\"dataframe\">\n",
       "  <thead>\n",
       "    <tr style=\"text-align: right;\">\n",
       "      <th></th>\n",
       "      <th>Name</th>\n",
       "    </tr>\n",
       "  </thead>\n",
       "  <tbody>\n",
       "    <tr>\n",
       "      <th>0</th>\n",
       "      <td>Alice</td>\n",
       "    </tr>\n",
       "    <tr>\n",
       "      <th>1</th>\n",
       "      <td>Bob</td>\n",
       "    </tr>\n",
       "    <tr>\n",
       "      <th>2</th>\n",
       "      <td>Charlie</td>\n",
       "    </tr>\n",
       "  </tbody>\n",
       "</table>\n",
       "</div>"
      ],
      "text/plain": [
       "      Name\n",
       "0    Alice\n",
       "1      Bob\n",
       "2  Charlie"
      ]
     },
     "metadata": {},
     "output_type": "display_data"
    }
   ],
   "source": [
    "# Selecting columns\n",
    "print(\"Selecting the 'Name' column:\\n\")\n",
    "display(df_sim[['Name']])"
   ]
  },
  {
   "cell_type": "code",
   "execution_count": 3,
   "id": "74b291b2",
   "metadata": {},
   "outputs": [
    {
     "name": "stdout",
     "output_type": "stream",
     "text": [
      "Selecting the second row:\n"
     ]
    },
    {
     "data": {
      "text/html": [
       "<div>\n",
       "<style scoped>\n",
       "    .dataframe tbody tr th:only-of-type {\n",
       "        vertical-align: middle;\n",
       "    }\n",
       "\n",
       "    .dataframe tbody tr th {\n",
       "        vertical-align: top;\n",
       "    }\n",
       "\n",
       "    .dataframe thead th {\n",
       "        text-align: right;\n",
       "    }\n",
       "</style>\n",
       "<table border=\"1\" class=\"dataframe\">\n",
       "  <thead>\n",
       "    <tr style=\"text-align: right;\">\n",
       "      <th></th>\n",
       "      <th>Name</th>\n",
       "      <th>Age</th>\n",
       "      <th>City</th>\n",
       "    </tr>\n",
       "  </thead>\n",
       "  <tbody>\n",
       "    <tr>\n",
       "      <th>1</th>\n",
       "      <td>Bob</td>\n",
       "      <td>27</td>\n",
       "      <td>Los Angeles</td>\n",
       "    </tr>\n",
       "  </tbody>\n",
       "</table>\n",
       "</div>"
      ],
      "text/plain": [
       "  Name  Age         City\n",
       "1  Bob   27  Los Angeles"
      ]
     },
     "metadata": {},
     "output_type": "display_data"
    }
   ],
   "source": [
    "# Selecting Rows\n",
    "print(\"Selecting the second row:\")\n",
    "display(df_sim.iloc[[1]])"
   ]
  },
  {
   "cell_type": "code",
   "execution_count": 4,
   "id": "6e743c07",
   "metadata": {},
   "outputs": [
    {
     "name": "stdout",
     "output_type": "stream",
     "text": [
      "Filtered DataFrame where Age > 22:\n"
     ]
    },
    {
     "data": {
      "text/html": [
       "<div>\n",
       "<style scoped>\n",
       "    .dataframe tbody tr th:only-of-type {\n",
       "        vertical-align: middle;\n",
       "    }\n",
       "\n",
       "    .dataframe tbody tr th {\n",
       "        vertical-align: top;\n",
       "    }\n",
       "\n",
       "    .dataframe thead th {\n",
       "        text-align: right;\n",
       "    }\n",
       "</style>\n",
       "<table border=\"1\" class=\"dataframe\">\n",
       "  <thead>\n",
       "    <tr style=\"text-align: right;\">\n",
       "      <th></th>\n",
       "      <th>Name</th>\n",
       "      <th>Age</th>\n",
       "      <th>City</th>\n",
       "    </tr>\n",
       "  </thead>\n",
       "  <tbody>\n",
       "    <tr>\n",
       "      <th>0</th>\n",
       "      <td>Alice</td>\n",
       "      <td>24</td>\n",
       "      <td>New York</td>\n",
       "    </tr>\n",
       "    <tr>\n",
       "      <th>1</th>\n",
       "      <td>Bob</td>\n",
       "      <td>27</td>\n",
       "      <td>Los Angeles</td>\n",
       "    </tr>\n",
       "  </tbody>\n",
       "</table>\n",
       "</div>"
      ],
      "text/plain": [
       "    Name  Age         City\n",
       "0  Alice   24     New York\n",
       "1    Bob   27  Los Angeles"
      ]
     },
     "metadata": {},
     "output_type": "display_data"
    },
    {
     "name": "stdout",
     "output_type": "stream",
     "text": [
      "\n",
      "\n",
      "Filtered DataFrame where Age > 22 and City is Los Angeles:\n"
     ]
    },
    {
     "data": {
      "text/html": [
       "<div>\n",
       "<style scoped>\n",
       "    .dataframe tbody tr th:only-of-type {\n",
       "        vertical-align: middle;\n",
       "    }\n",
       "\n",
       "    .dataframe tbody tr th {\n",
       "        vertical-align: top;\n",
       "    }\n",
       "\n",
       "    .dataframe thead th {\n",
       "        text-align: right;\n",
       "    }\n",
       "</style>\n",
       "<table border=\"1\" class=\"dataframe\">\n",
       "  <thead>\n",
       "    <tr style=\"text-align: right;\">\n",
       "      <th></th>\n",
       "      <th>Name</th>\n",
       "      <th>Age</th>\n",
       "      <th>City</th>\n",
       "    </tr>\n",
       "  </thead>\n",
       "  <tbody>\n",
       "    <tr>\n",
       "      <th>1</th>\n",
       "      <td>Bob</td>\n",
       "      <td>27</td>\n",
       "      <td>Los Angeles</td>\n",
       "    </tr>\n",
       "  </tbody>\n",
       "</table>\n",
       "</div>"
      ],
      "text/plain": [
       "  Name  Age         City\n",
       "1  Bob   27  Los Angeles"
      ]
     },
     "metadata": {},
     "output_type": "display_data"
    }
   ],
   "source": [
    "# Conditional filtering on rows\n",
    "adults_sim = df_sim[df_sim['Age'] > 22]\n",
    "print(\"Filtered DataFrame where Age > 22:\")\n",
    "display(adults_sim)\n",
    "\n",
    "# You can also use multiple conditions\n",
    "# Select rows where 'Chain' is 'E' and 'Feature1' is 1\n",
    "filtered_data_complex = df_sim[(df_sim['Age'] > 22) & (df_sim[\"City\"]==\"Los Angeles\")]\n",
    "print(\"\\n\\nFiltered DataFrame where Age > 22 and City is Los Angeles:\")\n",
    "display(filtered_data_complex)"
   ]
  },
  {
   "cell_type": "code",
   "execution_count": 5,
   "id": "9642374a",
   "metadata": {},
   "outputs": [
    {
     "name": "stdout",
     "output_type": "stream",
     "text": [
      "DataFrame with missing value:\n"
     ]
    },
    {
     "data": {
      "text/html": [
       "<div>\n",
       "<style scoped>\n",
       "    .dataframe tbody tr th:only-of-type {\n",
       "        vertical-align: middle;\n",
       "    }\n",
       "\n",
       "    .dataframe tbody tr th {\n",
       "        vertical-align: top;\n",
       "    }\n",
       "\n",
       "    .dataframe thead th {\n",
       "        text-align: right;\n",
       "    }\n",
       "</style>\n",
       "<table border=\"1\" class=\"dataframe\">\n",
       "  <thead>\n",
       "    <tr style=\"text-align: right;\">\n",
       "      <th></th>\n",
       "      <th>Name</th>\n",
       "      <th>Age</th>\n",
       "      <th>City</th>\n",
       "    </tr>\n",
       "  </thead>\n",
       "  <tbody>\n",
       "    <tr>\n",
       "      <th>0</th>\n",
       "      <td>Alice</td>\n",
       "      <td>24.0</td>\n",
       "      <td>New York</td>\n",
       "    </tr>\n",
       "    <tr>\n",
       "      <th>1</th>\n",
       "      <td>Bob</td>\n",
       "      <td>NaN</td>\n",
       "      <td>Los Angeles</td>\n",
       "    </tr>\n",
       "    <tr>\n",
       "      <th>2</th>\n",
       "      <td>Charlie</td>\n",
       "      <td>22.0</td>\n",
       "      <td>Chicago</td>\n",
       "    </tr>\n",
       "  </tbody>\n",
       "</table>\n",
       "</div>"
      ],
      "text/plain": [
       "      Name   Age         City\n",
       "0    Alice  24.0     New York\n",
       "1      Bob   NaN  Los Angeles\n",
       "2  Charlie  22.0      Chicago"
      ]
     },
     "metadata": {},
     "output_type": "display_data"
    },
    {
     "name": "stdout",
     "output_type": "stream",
     "text": [
      "\n",
      "\n",
      "DataFrame after filling missing values:\n"
     ]
    },
    {
     "data": {
      "text/html": [
       "<div>\n",
       "<style scoped>\n",
       "    .dataframe tbody tr th:only-of-type {\n",
       "        vertical-align: middle;\n",
       "    }\n",
       "\n",
       "    .dataframe tbody tr th {\n",
       "        vertical-align: top;\n",
       "    }\n",
       "\n",
       "    .dataframe thead th {\n",
       "        text-align: right;\n",
       "    }\n",
       "</style>\n",
       "<table border=\"1\" class=\"dataframe\">\n",
       "  <thead>\n",
       "    <tr style=\"text-align: right;\">\n",
       "      <th></th>\n",
       "      <th>Name</th>\n",
       "      <th>Age</th>\n",
       "      <th>City</th>\n",
       "    </tr>\n",
       "  </thead>\n",
       "  <tbody>\n",
       "    <tr>\n",
       "      <th>0</th>\n",
       "      <td>Alice</td>\n",
       "      <td>24.0</td>\n",
       "      <td>New York</td>\n",
       "    </tr>\n",
       "    <tr>\n",
       "      <th>1</th>\n",
       "      <td>Bob</td>\n",
       "      <td>23.0</td>\n",
       "      <td>Los Angeles</td>\n",
       "    </tr>\n",
       "    <tr>\n",
       "      <th>2</th>\n",
       "      <td>Charlie</td>\n",
       "      <td>22.0</td>\n",
       "      <td>Chicago</td>\n",
       "    </tr>\n",
       "  </tbody>\n",
       "</table>\n",
       "</div>"
      ],
      "text/plain": [
       "      Name   Age         City\n",
       "0    Alice  24.0     New York\n",
       "1      Bob  23.0  Los Angeles\n",
       "2  Charlie  22.0      Chicago"
      ]
     },
     "metadata": {},
     "output_type": "display_data"
    }
   ],
   "source": [
    "# Handling missing data\n",
    "df_sim.loc[1, 'Age'] = None\n",
    "print(\"DataFrame with missing value:\")\n",
    "display(df_sim)\n",
    "\n",
    "# Filling missing values\n",
    "df_sim['Age'].fillna(df_sim['Age'].mean(), inplace=True)\n",
    "print(\"\\n\\nDataFrame after filling missing values:\")\n",
    "display(df_sim)"
   ]
  },
  {
   "cell_type": "code",
   "execution_count": 6,
   "id": "239a97e0",
   "metadata": {},
   "outputs": [
    {
     "name": "stdout",
     "output_type": "stream",
     "text": [
      "\n",
      "Loading data from ../data directory\n",
      "\n",
      "DataFrame:\n"
     ]
    },
    {
     "data": {
      "text/html": [
       "<div>\n",
       "<style scoped>\n",
       "    .dataframe tbody tr th:only-of-type {\n",
       "        vertical-align: middle;\n",
       "    }\n",
       "\n",
       "    .dataframe tbody tr th {\n",
       "        vertical-align: top;\n",
       "    }\n",
       "\n",
       "    .dataframe thead th {\n",
       "        text-align: right;\n",
       "    }\n",
       "</style>\n",
       "<table border=\"1\" class=\"dataframe\">\n",
       "  <thead>\n",
       "    <tr style=\"text-align: right;\">\n",
       "      <th></th>\n",
       "      <th>Index</th>\n",
       "      <th>Residue</th>\n",
       "      <th>Chain</th>\n",
       "      <th>X</th>\n",
       "      <th>Y</th>\n",
       "      <th>Z</th>\n",
       "      <th>Feature1</th>\n",
       "      <th>Feature2</th>\n",
       "      <th>Feature3</th>\n",
       "      <th>Feature4</th>\n",
       "      <th>Feature5</th>\n",
       "      <th>Label</th>\n",
       "    </tr>\n",
       "  </thead>\n",
       "  <tbody>\n",
       "    <tr>\n",
       "      <th>0</th>\n",
       "      <td>0</td>\n",
       "      <td>GLN</td>\n",
       "      <td>C</td>\n",
       "      <td>0.000</td>\n",
       "      <td>0.000</td>\n",
       "      <td>0.000</td>\n",
       "      <td>1</td>\n",
       "      <td>1</td>\n",
       "      <td>1</td>\n",
       "      <td>1</td>\n",
       "      <td>1</td>\n",
       "      <td>0</td>\n",
       "    </tr>\n",
       "    <tr>\n",
       "      <th>1</th>\n",
       "      <td>1</td>\n",
       "      <td>THR</td>\n",
       "      <td>E</td>\n",
       "      <td>7.057</td>\n",
       "      <td>10.394</td>\n",
       "      <td>0.000</td>\n",
       "      <td>1</td>\n",
       "      <td>1</td>\n",
       "      <td>1</td>\n",
       "      <td>1</td>\n",
       "      <td>1</td>\n",
       "      <td>0</td>\n",
       "    </tr>\n",
       "    <tr>\n",
       "      <th>2</th>\n",
       "      <td>2</td>\n",
       "      <td>VAL</td>\n",
       "      <td>E</td>\n",
       "      <td>6.710</td>\n",
       "      <td>9.449</td>\n",
       "      <td>13.140</td>\n",
       "      <td>0</td>\n",
       "      <td>0</td>\n",
       "      <td>0</td>\n",
       "      <td>0</td>\n",
       "      <td>1</td>\n",
       "      <td>0</td>\n",
       "    </tr>\n",
       "    <tr>\n",
       "      <th>3</th>\n",
       "      <td>3</td>\n",
       "      <td>PRO</td>\n",
       "      <td>E</td>\n",
       "      <td>6.552</td>\n",
       "      <td>9.752</td>\n",
       "      <td>12.974</td>\n",
       "      <td>0</td>\n",
       "      <td>0</td>\n",
       "      <td>0</td>\n",
       "      <td>0</td>\n",
       "      <td>0</td>\n",
       "      <td>0</td>\n",
       "    </tr>\n",
       "    <tr>\n",
       "      <th>4</th>\n",
       "      <td>4</td>\n",
       "      <td>SER</td>\n",
       "      <td>C</td>\n",
       "      <td>6.544</td>\n",
       "      <td>7.584</td>\n",
       "      <td>11.239</td>\n",
       "      <td>0</td>\n",
       "      <td>0</td>\n",
       "      <td>0</td>\n",
       "      <td>0</td>\n",
       "      <td>0</td>\n",
       "      <td>0</td>\n",
       "    </tr>\n",
       "  </tbody>\n",
       "</table>\n",
       "</div>"
      ],
      "text/plain": [
       "   Index Residue Chain      X       Y       Z  Feature1  Feature2  Feature3  \\\n",
       "0      0     GLN     C  0.000   0.000   0.000         1         1         1   \n",
       "1      1     THR     E  7.057  10.394   0.000         1         1         1   \n",
       "2      2     VAL     E  6.710   9.449  13.140         0         0         0   \n",
       "3      3     PRO     E  6.552   9.752  12.974         0         0         0   \n",
       "4      4     SER     C  6.544   7.584  11.239         0         0         0   \n",
       "\n",
       "   Feature4  Feature5  Label  \n",
       "0         1         1      0  \n",
       "1         1         1      0  \n",
       "2         0         1      0  \n",
       "3         0         0      0  \n",
       "4         0         0      0  "
      ]
     },
     "metadata": {},
     "output_type": "display_data"
    }
   ],
   "source": [
    "# Using dataset from ../data directory\n",
    "print(\"\\nLoading data from ../data directory\\n\")\n",
    "\n",
    "\n",
    "# Load data from file\n",
    "data_file = '../data/small_data.txt'\n",
    "\n",
    "# Define the column names\n",
    "column_names = ['Index', 'Residue', 'Chain', 'X', 'Y', 'Z', 'Feature1', 'Feature2', 'Feature3', 'Feature4', 'Feature5', 'Label']\n",
    "\n",
    "# Read the dataset into a DataFrame\n",
    "df = pd.read_csv(data_file, delim_whitespace=True, header=None, names=column_names)\n",
    "print(\"DataFrame:\")\n",
    "display(df.head())"
   ]
  },
  {
   "cell_type": "code",
   "execution_count": 7,
   "id": "97933cff",
   "metadata": {},
   "outputs": [
    {
     "name": "stdout",
     "output_type": "stream",
     "text": [
      "Selecting the 'Residue' column:\n"
     ]
    },
    {
     "data": {
      "text/html": [
       "<div>\n",
       "<style scoped>\n",
       "    .dataframe tbody tr th:only-of-type {\n",
       "        vertical-align: middle;\n",
       "    }\n",
       "\n",
       "    .dataframe tbody tr th {\n",
       "        vertical-align: top;\n",
       "    }\n",
       "\n",
       "    .dataframe thead th {\n",
       "        text-align: right;\n",
       "    }\n",
       "</style>\n",
       "<table border=\"1\" class=\"dataframe\">\n",
       "  <thead>\n",
       "    <tr style=\"text-align: right;\">\n",
       "      <th></th>\n",
       "      <th>Residue</th>\n",
       "    </tr>\n",
       "  </thead>\n",
       "  <tbody>\n",
       "    <tr>\n",
       "      <th>0</th>\n",
       "      <td>GLN</td>\n",
       "    </tr>\n",
       "    <tr>\n",
       "      <th>1</th>\n",
       "      <td>THR</td>\n",
       "    </tr>\n",
       "    <tr>\n",
       "      <th>2</th>\n",
       "      <td>VAL</td>\n",
       "    </tr>\n",
       "    <tr>\n",
       "      <th>3</th>\n",
       "      <td>PRO</td>\n",
       "    </tr>\n",
       "    <tr>\n",
       "      <th>4</th>\n",
       "      <td>SER</td>\n",
       "    </tr>\n",
       "  </tbody>\n",
       "</table>\n",
       "</div>"
      ],
      "text/plain": [
       "  Residue\n",
       "0     GLN\n",
       "1     THR\n",
       "2     VAL\n",
       "3     PRO\n",
       "4     SER"
      ]
     },
     "metadata": {},
     "output_type": "display_data"
    }
   ],
   "source": [
    "# Data selection\n",
    "print(\"Selecting the 'Residue' column:\")\n",
    "display(df[[\"Residue\"]].head())"
   ]
  },
  {
   "cell_type": "code",
   "execution_count": 8,
   "id": "ff25f243",
   "metadata": {},
   "outputs": [
    {
     "name": "stdout",
     "output_type": "stream",
     "text": [
      "\n",
      "\n",
      "Filtered DataFrame where Feature1 == 1:\n"
     ]
    },
    {
     "data": {
      "text/html": [
       "<div>\n",
       "<style scoped>\n",
       "    .dataframe tbody tr th:only-of-type {\n",
       "        vertical-align: middle;\n",
       "    }\n",
       "\n",
       "    .dataframe tbody tr th {\n",
       "        vertical-align: top;\n",
       "    }\n",
       "\n",
       "    .dataframe thead th {\n",
       "        text-align: right;\n",
       "    }\n",
       "</style>\n",
       "<table border=\"1\" class=\"dataframe\">\n",
       "  <thead>\n",
       "    <tr style=\"text-align: right;\">\n",
       "      <th></th>\n",
       "      <th>Index</th>\n",
       "      <th>Residue</th>\n",
       "      <th>Chain</th>\n",
       "      <th>X</th>\n",
       "      <th>Y</th>\n",
       "      <th>Z</th>\n",
       "      <th>Feature1</th>\n",
       "      <th>Feature2</th>\n",
       "      <th>Feature3</th>\n",
       "      <th>Feature4</th>\n",
       "      <th>Feature5</th>\n",
       "      <th>Label</th>\n",
       "    </tr>\n",
       "  </thead>\n",
       "  <tbody>\n",
       "    <tr>\n",
       "      <th>0</th>\n",
       "      <td>0</td>\n",
       "      <td>GLN</td>\n",
       "      <td>C</td>\n",
       "      <td>0.000</td>\n",
       "      <td>0.000</td>\n",
       "      <td>0.000</td>\n",
       "      <td>1</td>\n",
       "      <td>1</td>\n",
       "      <td>1</td>\n",
       "      <td>1</td>\n",
       "      <td>1</td>\n",
       "      <td>0</td>\n",
       "    </tr>\n",
       "    <tr>\n",
       "      <th>1</th>\n",
       "      <td>1</td>\n",
       "      <td>THR</td>\n",
       "      <td>E</td>\n",
       "      <td>7.057</td>\n",
       "      <td>10.394</td>\n",
       "      <td>0.000</td>\n",
       "      <td>1</td>\n",
       "      <td>1</td>\n",
       "      <td>1</td>\n",
       "      <td>1</td>\n",
       "      <td>1</td>\n",
       "      <td>0</td>\n",
       "    </tr>\n",
       "    <tr>\n",
       "      <th>42</th>\n",
       "      <td>42</td>\n",
       "      <td>ALA</td>\n",
       "      <td>H</td>\n",
       "      <td>5.661</td>\n",
       "      <td>5.577</td>\n",
       "      <td>8.449</td>\n",
       "      <td>1</td>\n",
       "      <td>1</td>\n",
       "      <td>1</td>\n",
       "      <td>2</td>\n",
       "      <td>4</td>\n",
       "      <td>0</td>\n",
       "    </tr>\n",
       "    <tr>\n",
       "      <th>50</th>\n",
       "      <td>50</td>\n",
       "      <td>TYR</td>\n",
       "      <td>E</td>\n",
       "      <td>7.192</td>\n",
       "      <td>9.679</td>\n",
       "      <td>12.356</td>\n",
       "      <td>1</td>\n",
       "      <td>1</td>\n",
       "      <td>2</td>\n",
       "      <td>3</td>\n",
       "      <td>8</td>\n",
       "      <td>0</td>\n",
       "    </tr>\n",
       "    <tr>\n",
       "      <th>93</th>\n",
       "      <td>93</td>\n",
       "      <td>ALA</td>\n",
       "      <td>H</td>\n",
       "      <td>5.303</td>\n",
       "      <td>4.930</td>\n",
       "      <td>6.441</td>\n",
       "      <td>1</td>\n",
       "      <td>1</td>\n",
       "      <td>2</td>\n",
       "      <td>2</td>\n",
       "      <td>6</td>\n",
       "      <td>0</td>\n",
       "    </tr>\n",
       "  </tbody>\n",
       "</table>\n",
       "</div>"
      ],
      "text/plain": [
       "    Index Residue Chain      X       Y       Z  Feature1  Feature2  Feature3  \\\n",
       "0       0     GLN     C  0.000   0.000   0.000         1         1         1   \n",
       "1       1     THR     E  7.057  10.394   0.000         1         1         1   \n",
       "42     42     ALA     H  5.661   5.577   8.449         1         1         1   \n",
       "50     50     TYR     E  7.192   9.679  12.356         1         1         2   \n",
       "93     93     ALA     H  5.303   4.930   6.441         1         1         2   \n",
       "\n",
       "    Feature4  Feature5  Label  \n",
       "0          1         1      0  \n",
       "1          1         1      0  \n",
       "42         2         4      0  \n",
       "50         3         8      0  \n",
       "93         2         6      0  "
      ]
     },
     "metadata": {},
     "output_type": "display_data"
    }
   ],
   "source": [
    "# Conditional filtering\n",
    "filtered_df = df[df['Feature1'] == 1]\n",
    "print(\"\\n\\nFiltered DataFrame where Feature1 == 1:\")\n",
    "display(filtered_df.head())"
   ]
  },
  {
   "cell_type": "code",
   "execution_count": 9,
   "id": "c5354dcb",
   "metadata": {
    "scrolled": true
   },
   "outputs": [
    {
     "name": "stdout",
     "output_type": "stream",
     "text": [
      "DataFrame with missing value:\n"
     ]
    },
    {
     "data": {
      "text/html": [
       "<div>\n",
       "<style scoped>\n",
       "    .dataframe tbody tr th:only-of-type {\n",
       "        vertical-align: middle;\n",
       "    }\n",
       "\n",
       "    .dataframe tbody tr th {\n",
       "        vertical-align: top;\n",
       "    }\n",
       "\n",
       "    .dataframe thead th {\n",
       "        text-align: right;\n",
       "    }\n",
       "</style>\n",
       "<table border=\"1\" class=\"dataframe\">\n",
       "  <thead>\n",
       "    <tr style=\"text-align: right;\">\n",
       "      <th></th>\n",
       "      <th>Index</th>\n",
       "      <th>Residue</th>\n",
       "      <th>Chain</th>\n",
       "      <th>X</th>\n",
       "      <th>Y</th>\n",
       "      <th>Z</th>\n",
       "      <th>Feature1</th>\n",
       "      <th>Feature2</th>\n",
       "      <th>Feature3</th>\n",
       "      <th>Feature4</th>\n",
       "      <th>Feature5</th>\n",
       "      <th>Label</th>\n",
       "    </tr>\n",
       "  </thead>\n",
       "  <tbody>\n",
       "    <tr>\n",
       "      <th>0</th>\n",
       "      <td>0</td>\n",
       "      <td>GLN</td>\n",
       "      <td>C</td>\n",
       "      <td>0.000</td>\n",
       "      <td>0.000</td>\n",
       "      <td>0.000</td>\n",
       "      <td>1</td>\n",
       "      <td>1.0</td>\n",
       "      <td>1</td>\n",
       "      <td>1</td>\n",
       "      <td>1</td>\n",
       "      <td>0</td>\n",
       "    </tr>\n",
       "    <tr>\n",
       "      <th>1</th>\n",
       "      <td>1</td>\n",
       "      <td>THR</td>\n",
       "      <td>E</td>\n",
       "      <td>7.057</td>\n",
       "      <td>10.394</td>\n",
       "      <td>0.000</td>\n",
       "      <td>1</td>\n",
       "      <td>1.0</td>\n",
       "      <td>1</td>\n",
       "      <td>1</td>\n",
       "      <td>1</td>\n",
       "      <td>0</td>\n",
       "    </tr>\n",
       "    <tr>\n",
       "      <th>2</th>\n",
       "      <td>2</td>\n",
       "      <td>VAL</td>\n",
       "      <td>E</td>\n",
       "      <td>6.710</td>\n",
       "      <td>9.449</td>\n",
       "      <td>13.140</td>\n",
       "      <td>0</td>\n",
       "      <td>0.0</td>\n",
       "      <td>0</td>\n",
       "      <td>0</td>\n",
       "      <td>1</td>\n",
       "      <td>0</td>\n",
       "    </tr>\n",
       "    <tr>\n",
       "      <th>3</th>\n",
       "      <td>3</td>\n",
       "      <td>PRO</td>\n",
       "      <td>E</td>\n",
       "      <td>6.552</td>\n",
       "      <td>9.752</td>\n",
       "      <td>12.974</td>\n",
       "      <td>0</td>\n",
       "      <td>0.0</td>\n",
       "      <td>0</td>\n",
       "      <td>0</td>\n",
       "      <td>0</td>\n",
       "      <td>0</td>\n",
       "    </tr>\n",
       "    <tr>\n",
       "      <th>4</th>\n",
       "      <td>4</td>\n",
       "      <td>SER</td>\n",
       "      <td>C</td>\n",
       "      <td>6.544</td>\n",
       "      <td>7.584</td>\n",
       "      <td>11.239</td>\n",
       "      <td>0</td>\n",
       "      <td>NaN</td>\n",
       "      <td>0</td>\n",
       "      <td>0</td>\n",
       "      <td>0</td>\n",
       "      <td>0</td>\n",
       "    </tr>\n",
       "  </tbody>\n",
       "</table>\n",
       "</div>"
      ],
      "text/plain": [
       "   Index Residue Chain      X       Y       Z  Feature1  Feature2  Feature3  \\\n",
       "0      0     GLN     C  0.000   0.000   0.000         1       1.0         1   \n",
       "1      1     THR     E  7.057  10.394   0.000         1       1.0         1   \n",
       "2      2     VAL     E  6.710   9.449  13.140         0       0.0         0   \n",
       "3      3     PRO     E  6.552   9.752  12.974         0       0.0         0   \n",
       "4      4     SER     C  6.544   7.584  11.239         0       NaN         0   \n",
       "\n",
       "   Feature4  Feature5  Label  \n",
       "0         1         1      0  \n",
       "1         1         1      0  \n",
       "2         0         1      0  \n",
       "3         0         0      0  \n",
       "4         0         0      0  "
      ]
     },
     "metadata": {},
     "output_type": "display_data"
    },
    {
     "name": "stdout",
     "output_type": "stream",
     "text": [
      "\n",
      "\n",
      "DataFrame after filling missing values:\n"
     ]
    },
    {
     "data": {
      "text/html": [
       "<div>\n",
       "<style scoped>\n",
       "    .dataframe tbody tr th:only-of-type {\n",
       "        vertical-align: middle;\n",
       "    }\n",
       "\n",
       "    .dataframe tbody tr th {\n",
       "        vertical-align: top;\n",
       "    }\n",
       "\n",
       "    .dataframe thead th {\n",
       "        text-align: right;\n",
       "    }\n",
       "</style>\n",
       "<table border=\"1\" class=\"dataframe\">\n",
       "  <thead>\n",
       "    <tr style=\"text-align: right;\">\n",
       "      <th></th>\n",
       "      <th>Index</th>\n",
       "      <th>Residue</th>\n",
       "      <th>Chain</th>\n",
       "      <th>X</th>\n",
       "      <th>Y</th>\n",
       "      <th>Z</th>\n",
       "      <th>Feature1</th>\n",
       "      <th>Feature2</th>\n",
       "      <th>Feature3</th>\n",
       "      <th>Feature4</th>\n",
       "      <th>Feature5</th>\n",
       "      <th>Label</th>\n",
       "    </tr>\n",
       "  </thead>\n",
       "  <tbody>\n",
       "    <tr>\n",
       "      <th>0</th>\n",
       "      <td>0</td>\n",
       "      <td>GLN</td>\n",
       "      <td>C</td>\n",
       "      <td>0.000</td>\n",
       "      <td>0.000</td>\n",
       "      <td>0.000</td>\n",
       "      <td>1</td>\n",
       "      <td>1.000000</td>\n",
       "      <td>1</td>\n",
       "      <td>1</td>\n",
       "      <td>1</td>\n",
       "      <td>0</td>\n",
       "    </tr>\n",
       "    <tr>\n",
       "      <th>1</th>\n",
       "      <td>1</td>\n",
       "      <td>THR</td>\n",
       "      <td>E</td>\n",
       "      <td>7.057</td>\n",
       "      <td>10.394</td>\n",
       "      <td>0.000</td>\n",
       "      <td>1</td>\n",
       "      <td>1.000000</td>\n",
       "      <td>1</td>\n",
       "      <td>1</td>\n",
       "      <td>1</td>\n",
       "      <td>0</td>\n",
       "    </tr>\n",
       "    <tr>\n",
       "      <th>2</th>\n",
       "      <td>2</td>\n",
       "      <td>VAL</td>\n",
       "      <td>E</td>\n",
       "      <td>6.710</td>\n",
       "      <td>9.449</td>\n",
       "      <td>13.140</td>\n",
       "      <td>0</td>\n",
       "      <td>0.000000</td>\n",
       "      <td>0</td>\n",
       "      <td>0</td>\n",
       "      <td>1</td>\n",
       "      <td>0</td>\n",
       "    </tr>\n",
       "    <tr>\n",
       "      <th>3</th>\n",
       "      <td>3</td>\n",
       "      <td>PRO</td>\n",
       "      <td>E</td>\n",
       "      <td>6.552</td>\n",
       "      <td>9.752</td>\n",
       "      <td>12.974</td>\n",
       "      <td>0</td>\n",
       "      <td>0.000000</td>\n",
       "      <td>0</td>\n",
       "      <td>0</td>\n",
       "      <td>0</td>\n",
       "      <td>0</td>\n",
       "    </tr>\n",
       "    <tr>\n",
       "      <th>4</th>\n",
       "      <td>4</td>\n",
       "      <td>SER</td>\n",
       "      <td>C</td>\n",
       "      <td>6.544</td>\n",
       "      <td>7.584</td>\n",
       "      <td>11.239</td>\n",
       "      <td>0</td>\n",
       "      <td>0.071071</td>\n",
       "      <td>0</td>\n",
       "      <td>0</td>\n",
       "      <td>0</td>\n",
       "      <td>0</td>\n",
       "    </tr>\n",
       "  </tbody>\n",
       "</table>\n",
       "</div>"
      ],
      "text/plain": [
       "   Index Residue Chain      X       Y       Z  Feature1  Feature2  Feature3  \\\n",
       "0      0     GLN     C  0.000   0.000   0.000         1  1.000000         1   \n",
       "1      1     THR     E  7.057  10.394   0.000         1  1.000000         1   \n",
       "2      2     VAL     E  6.710   9.449  13.140         0  0.000000         0   \n",
       "3      3     PRO     E  6.552   9.752  12.974         0  0.000000         0   \n",
       "4      4     SER     C  6.544   7.584  11.239         0  0.071071         0   \n",
       "\n",
       "   Feature4  Feature5  Label  \n",
       "0         1         1      0  \n",
       "1         1         1      0  \n",
       "2         0         1      0  \n",
       "3         0         0      0  \n",
       "4         0         0      0  "
      ]
     },
     "metadata": {},
     "output_type": "display_data"
    }
   ],
   "source": [
    "# Handling missing data\n",
    "df.loc[4, 'Feature2'] = None\n",
    "print(\"DataFrame with missing value:\")\n",
    "display(df.head())\n",
    "\n",
    "# Filling missing values\n",
    "df['Feature2'].fillna(df['Feature2'].mean(), inplace=True)\n",
    "print(\"\\n\\nDataFrame after filling missing values:\")\n",
    "display(df.head())"
   ]
  },
  {
   "cell_type": "markdown",
   "id": "cd176183",
   "metadata": {},
   "source": [
    "## Part 3: Basic Operations with NumPy\n",
    "\n",
    "**Overview**: NumPy is a fundamental library for numerical computations in Python. It provides support for arrays, matrices, and a large number of mathematical functions.\n",
    "\n",
    "**Key Concepts**:\n",
    "- Array creation and manipulation.\n",
    "- Basic mathematical operations.\n",
    "- Indexing and slicing."
   ]
  },
  {
   "cell_type": "code",
   "execution_count": 10,
   "id": "9bc24da2",
   "metadata": {},
   "outputs": [
    {
     "name": "stdout",
     "output_type": "stream",
     "text": [
      "Simulated Data\n",
      "\n",
      "1D Array: [1 2 3 4 5]\n",
      "2D Array:\n",
      " [[1 2 3]\n",
      " [4 5 6]]\n"
     ]
    }
   ],
   "source": [
    "import numpy as np\n",
    "\n",
    "# Simulated data\n",
    "print(\"Simulated Data\\n\")\n",
    "\n",
    "# Creating arrays\n",
    "array_1d = np.array([1, 2, 3, 4, 5])\n",
    "array_2d = np.array([[1, 2, 3], [4, 5, 6]])\n",
    "print(\"1D Array:\", array_1d)\n",
    "print(\"2D Array:\\n\", array_2d)"
   ]
  },
  {
   "cell_type": "code",
   "execution_count": 11,
   "id": "eee0003d",
   "metadata": {},
   "outputs": [
    {
     "name": "stdout",
     "output_type": "stream",
     "text": [
      "Sum of elements: 15\n",
      "Mean of elements: 3.0\n",
      "Standard Deviation of elements: 1.4142135623730951\n"
     ]
    }
   ],
   "source": [
    "# Basic mathematical operations\n",
    "print(\"Sum of elements:\", np.sum(array_1d))\n",
    "print(\"Mean of elements:\", np.mean(array_1d))\n",
    "print(\"Standard Deviation of elements:\", np.std(array_1d))"
   ]
  },
  {
   "cell_type": "code",
   "execution_count": 12,
   "id": "ce4c7ff6",
   "metadata": {},
   "outputs": [
    {
     "name": "stdout",
     "output_type": "stream",
     "text": [
      "First element: 1\n",
      "Elements from index 1 to 3: [2 3 4]\n",
      "Last element: 5\n"
     ]
    }
   ],
   "source": [
    "# Indexing and slicing\n",
    "print(\"First element:\", array_1d[0])\n",
    "print(\"Elements from index 1 to 3:\", array_1d[1:4])\n",
    "print(\"Last element:\", array_1d[-1])"
   ]
  },
  {
   "cell_type": "code",
   "execution_count": 13,
   "id": "6c58cc2e",
   "metadata": {
    "scrolled": true
   },
   "outputs": [
    {
     "name": "stdout",
     "output_type": "stream",
     "text": [
      "\n",
      "Loading data from ../data directory\n",
      "\n",
      "Loaded Data:\n",
      " [(0, 'GLN', 'C', 0.   ,  0.   ,  0.   , 1, 1, 1, 1, 1, 0)\n",
      " (1, 'THR', 'E', 7.057, 10.394,  0.   , 1, 1, 1, 1, 1, 0)\n",
      " (2, 'VAL', 'E', 6.71 ,  9.449, 13.14 , 0, 0, 0, 0, 1, 0)\n",
      " (3, 'PRO', 'E', 6.552,  9.752, 12.974, 0, 0, 0, 0, 0, 0)\n",
      " (4, 'SER', 'C', 6.544,  7.584, 11.239, 0, 0, 0, 0, 0, 0)]\n"
     ]
    }
   ],
   "source": [
    "# Using dataset from ../data directory\n",
    "print(\"\\nLoading data from ../data directory\\n\")\n",
    "\n",
    "\n",
    "# Define the data types for each column explicitly\n",
    "dtype = [\n",
    "    ('Index', 'i4'),      # integer\n",
    "    ('Residue', 'U3'),    # string with max 3 chars\n",
    "    ('Chain', 'U1'),      # string with 1 char\n",
    "    ('X', 'f8'),          # float, double precision\n",
    "    ('Y', 'f8'),          # float, double precision\n",
    "    ('Z', 'f8'),          # float, double precision\n",
    "    ('Feature1', 'i1'),   # integer\n",
    "    ('Feature2', 'i1'),   # integer\n",
    "    ('Feature3', 'i1'),   # integer\n",
    "    ('Feature4', 'i1'),   # integer\n",
    "    ('Feature5', 'i1'),   # integer\n",
    "    ('Label', 'i1')       # integer\n",
    "]\n",
    "\n",
    "# Load the dataset into a NumPy array\n",
    "data = np.loadtxt(data_file, dtype=dtype, encoding='utf-8')\n",
    "\n",
    "print(\"Loaded Data:\\n\", data[:5])\n"
   ]
  },
  {
   "cell_type": "code",
   "execution_count": 14,
   "id": "bec2d32f",
   "metadata": {},
   "outputs": [
    {
     "name": "stdout",
     "output_type": "stream",
     "text": [
      "Loaded data from Pandas dataframe:\n",
      " [[0 'GLN' 'C' 0.0 0.0 0.0 1 1.0 1 1 1 0]\n",
      " [1 'THR' 'E' 7.057 10.394 0.0 1 1.0 1 1 1 0]\n",
      " [2 'VAL' 'E' 6.71 9.449 13.14 0 0.0 0 0 1 0]\n",
      " [3 'PRO' 'E' 6.552 9.752 12.974 0 0.0 0 0 0 0]\n",
      " [4 'SER' 'C' 6.544 7.584 11.239 0 0.07107107107107107 0 0 0 0]]\n"
     ]
    }
   ],
   "source": [
    "# Or use Pandas and convert it to numpy\n",
    "data_from_pd = df.to_numpy()\n",
    "\n",
    "print(\"Loaded data from Pandas dataframe:\\n\", data_from_pd[:5])"
   ]
  },
  {
   "cell_type": "code",
   "execution_count": 15,
   "id": "88880bf5",
   "metadata": {},
   "outputs": [
    {
     "name": "stdout",
     "output_type": "stream",
     "text": [
      "Mean of X coordinates: 5.939057000000001\n",
      "Sum of Feature1: 15\n"
     ]
    }
   ],
   "source": [
    "# Perform operations on loaded data\n",
    "print(\"Mean of X coordinates:\", np.mean(data['X']))\n",
    "print(\"Sum of Feature1:\", np.sum(data['Feature1']))"
   ]
  },
  {
   "cell_type": "markdown",
   "id": "c206b219",
   "metadata": {},
   "source": [
    "## Part 4: Data Visualization with Matplotlib\n",
    "\n",
    "**Overview**: Matplotlib is a versatile library for creating static, animated, and interactive visualizations in Python.\n",
    "\n",
    "\n",
    "**Key Concepts**:\n",
    "- Basic plotting.\n",
    "- Customizing plots.\n",
    "- Creating different types of plots (line, bar, scatter)."
   ]
  },
  {
   "cell_type": "code",
   "execution_count": 16,
   "id": "ba647464",
   "metadata": {},
   "outputs": [
    {
     "name": "stdout",
     "output_type": "stream",
     "text": [
      "Simulated Data\n",
      "\n"
     ]
    },
    {
     "data": {
      "image/png": "[encoded data removed]",
      "text/plain": [
       "<Figure size 640x480 with 1 Axes>"
      ]
     },
     "metadata": {},
     "output_type": "display_data"
    }
   ],
   "source": [
    "import matplotlib.pyplot as plt\n",
    "\n",
    "# Simulated data\n",
    "print(\"Simulated Data\\n\")\n",
    "\n",
    "# Simple line plot\n",
    "plt.plot([1, 2, 3, 4], [10, 20, 25, 30])\n",
    "plt.xlabel('X axis')\n",
    "plt.ylabel('Y axis')\n",
    "plt.title('Simple Line Plot')\n",
    "plt.show()"
   ]
  },
  {
   "cell_type": "code",
   "execution_count": 17,
   "id": "5a9c6808",
   "metadata": {},
   "outputs": [
    {
     "data": {
      "image/png": "[encoded data removed]",
      "text/plain": [
       "<Figure size 640x480 with 1 Axes>"
      ]
     },
     "metadata": {},
     "output_type": "display_data"
    }
   ],
   "source": [
    "# Customizing plot\n",
    "plt.plot([1, 2, 3, 4], [10, 20, 25, 30], color='red', linestyle='--', marker='o')\n",
    "plt.xlabel('X axis')\n",
    "plt.ylabel('Y axis')\n",
    "plt.title('Customized Line Plot')\n",
    "plt.grid(True)\n",
    "plt.show()\n"
   ]
  },
  {
   "cell_type": "code",
   "execution_count": 18,
   "id": "fe4caaf1",
   "metadata": {},
   "outputs": [
    {
     "data": {
      "image/png": "[encoded data removed]",
      "text/plain": [
       "<Figure size 640x480 with 1 Axes>"
      ]
     },
     "metadata": {},
     "output_type": "display_data"
    }
   ],
   "source": [
    "# Bar plot\n",
    "plt.bar(['A', 'B', 'C', 'D'], [3, 7, 5, 12])\n",
    "plt.xlabel('Categories')\n",
    "plt.ylabel('Values')\n",
    "plt.title('Simple Bar Plot')\n",
    "plt.show()"
   ]
  },
  {
   "cell_type": "code",
   "execution_count": 19,
   "id": "728ec817",
   "metadata": {},
   "outputs": [
    {
     "data": {
      "image/png": "[encoded data removed]",
      "text/plain": [
       "<Figure size 640x480 with 1 Axes>"
      ]
     },
     "metadata": {},
     "output_type": "display_data"
    }
   ],
   "source": [
    "# Scatter plot\n",
    "plt.scatter([1, 2, 3, 4], [10, 20, 25, 30])\n",
    "plt.xlabel('X axis')\n",
    "plt.ylabel('Y axis')\n",
    "plt.title('Simple Scatter Plot')\n",
    "plt.show()\n"
   ]
  },
  {
   "cell_type": "code",
   "execution_count": 20,
   "id": "da79e7e5",
   "metadata": {},
   "outputs": [
    {
     "data": {
      "image/png": "[encoded data removed]",
      "text/plain": [
       "<Figure size 640x480 with 1 Axes>"
      ]
     },
     "metadata": {},
     "output_type": "display_data"
    }
   ],
   "source": [
    "# Simple line plot for X coordinates\n",
    "plt.plot(df['Index'], df['X'])\n",
    "plt.xlabel('Index')\n",
    "plt.ylabel('X coordinate')\n",
    "plt.title('X Coordinate Line Plot')\n",
    "plt.show()"
   ]
  },
  {
   "cell_type": "code",
   "execution_count": 21,
   "id": "00c36bf1",
   "metadata": {},
   "outputs": [
    {
     "data": {
      "image/png": "[encoded data removed]",
      "text/plain": [
       "<Figure size 640x480 with 1 Axes>"
      ]
     },
     "metadata": {},
     "output_type": "display_data"
    }
   ],
   "source": [
    "# Bar plot for Feature1 values\n",
    "plt.bar(df['Index'][:100], df['Feature1'][:100])  # Plotting the first 100 entries\n",
    "plt.xlabel('Index')\n",
    "plt.ylabel('Feature1')\n",
    "plt.title('Feature1 Bar Plot')\n",
    "plt.show()\n"
   ]
  },
  {
   "cell_type": "code",
   "execution_count": 22,
   "id": "a57bf392",
   "metadata": {},
   "outputs": [
    {
     "data": {
      "image/png": "[encoded data removed]",
      "text/plain": [
       "<Figure size 640x480 with 1 Axes>"
      ]
     },
     "metadata": {},
     "output_type": "display_data"
    }
   ],
   "source": [
    "# Histogram for Feature1 values\n",
    "plt.hist(df['Feature1'][:100])  # Plotting the first 100 entries\n",
    "plt.xlabel('Index')\n",
    "plt.ylabel('Feature1')\n",
    "plt.title('Feature1 Bar Plot')\n",
    "plt.show()\n"
   ]
  },
  {
   "cell_type": "code",
   "execution_count": 23,
   "id": "4fe9c9b7",
   "metadata": {},
   "outputs": [
    {
     "data": {
      "image/png": "[encoded data removed]",
      "text/plain": [
       "<Figure size 640x480 with 1 Axes>"
      ]
     },
     "metadata": {},
     "output_type": "display_data"
    }
   ],
   "source": [
    "# Scatter plot for X and Y coordinates\n",
    "plt.scatter(df['X'], df['Y'])\n",
    "plt.xlabel('X coordinate')\n",
    "plt.ylabel('Y coordinate')\n",
    "plt.title('Scatter Plot of X and Y Coordinates')\n",
    "plt.show()"
   ]
  },
  {
   "cell_type": "markdown",
   "id": "0ed1c301",
   "metadata": {},
   "source": [
    "## Part 5: Training a Neural Network on Relational Data\n",
    "\n",
    "In this session, we demonstrate a straightforward approach to training a neural network using relational data for a binary classification task. The objective is to predict whether a customer will purchase a product based solely on their attributes. This example primarily serves as an introduction to using pandas for data manipulation and `sklearn` for a basic application of machine learning, setting the stage for more detailed studies in future sessions.\n",
    "\n",
    "### Key Steps in the Process:\n",
    "1. **Data Generation**: We will generate simple relational data with two distinct groups representing customers who will and will not buy a product. The data for each group is simulated with normal distributions, differing slightly in their mean values for attributes such as age, income, and number of purchases.\n",
    "\n",
    "2. **Model Training**:\n",
    "   - **No Preprocessing**: There will be no data scaling or transformation applied, maintaining the simplest form of data input.\n",
    "   - **No Data Splitting**: The entire dataset will be used for both training and evaluating the model, skipping traditional practices like dividing data into training, validation, or test sets.\n",
    "   - **No Evaluation on Separate Test or Validation Sets**: The model's accuracy will be evaluated on the same dataset it was trained on, providing a straightforward assessment of its performance without the complexities of external validation.\n",
    "   - **No Checks for Data Leakage or Other Potential Issues**: This example will not include steps to check for data leakage, nor will it involve any sanity tests to ensure data integrity and the appropriateness of the model's training regime.\n",
    "\n",
    "This method is designed to illustrate the most basic setup for training a neural network, focusing solely on the application of an MLP (Multi-Layer Perceptron) to relational data. The simplicity of this approach is intended to familiarize beginners with the basic tools and techniques of machine learning, particularly how to use pandas for data handling and the initial application of `sklearn`. More comprehensive training and evaluation methods will be covered in subsequent sessions.\n"
   ]
  },
  {
   "cell_type": "code",
   "execution_count": 24,
   "id": "b20b89cd",
   "metadata": {},
   "outputs": [
    {
     "data": {
      "text/html": [
       "<div>\n",
       "<style scoped>\n",
       "    .dataframe tbody tr th:only-of-type {\n",
       "        vertical-align: middle;\n",
       "    }\n",
       "\n",
       "    .dataframe tbody tr th {\n",
       "        vertical-align: top;\n",
       "    }\n",
       "\n",
       "    .dataframe thead th {\n",
       "        text-align: right;\n",
       "    }\n",
       "</style>\n",
       "<table border=\"1\" class=\"dataframe\">\n",
       "  <thead>\n",
       "    <tr style=\"text-align: right;\">\n",
       "      <th></th>\n",
       "      <th>Age</th>\n",
       "      <th>Income</th>\n",
       "      <th>Purchases</th>\n",
       "      <th>Will_Buy</th>\n",
       "    </tr>\n",
       "  </thead>\n",
       "  <tbody>\n",
       "    <tr>\n",
       "      <th>0</th>\n",
       "      <td>39.967142</td>\n",
       "      <td>70990.331549</td>\n",
       "      <td>13.248217</td>\n",
       "      <td>No</td>\n",
       "    </tr>\n",
       "    <tr>\n",
       "      <th>1</th>\n",
       "      <td>33.617357</td>\n",
       "      <td>63869.505244</td>\n",
       "      <td>18.554813</td>\n",
       "      <td>No</td>\n",
       "    </tr>\n",
       "    <tr>\n",
       "      <th>2</th>\n",
       "      <td>41.476885</td>\n",
       "      <td>50894.455549</td>\n",
       "      <td>12.075801</td>\n",
       "      <td>No</td>\n",
       "    </tr>\n",
       "    <tr>\n",
       "      <th>3</th>\n",
       "      <td>50.230299</td>\n",
       "      <td>40295.948334</td>\n",
       "      <td>16.920385</td>\n",
       "      <td>No</td>\n",
       "    </tr>\n",
       "    <tr>\n",
       "      <th>4</th>\n",
       "      <td>32.658466</td>\n",
       "      <td>60473.349704</td>\n",
       "      <td>1.063853</td>\n",
       "      <td>No</td>\n",
       "    </tr>\n",
       "  </tbody>\n",
       "</table>\n",
       "</div>"
      ],
      "text/plain": [
       "         Age        Income  Purchases Will_Buy\n",
       "0  39.967142  70990.331549  13.248217       No\n",
       "1  33.617357  63869.505244  18.554813       No\n",
       "2  41.476885  50894.455549  12.075801       No\n",
       "3  50.230299  40295.948334  16.920385       No\n",
       "4  32.658466  60473.349704   1.063853       No"
      ]
     },
     "execution_count": 24,
     "metadata": {},
     "output_type": "execute_result"
    }
   ],
   "source": [
    "# Simulating data\n",
    "\n",
    "# Seed for reproducibility\n",
    "np.random.seed(42)\n",
    "\n",
    "# Parameters for two groups\n",
    "size_per_group = 1000\n",
    "age_mean_0, age_std = 35, 10\n",
    "age_mean_1 = 50  # Slightly different mean\n",
    "\n",
    "income_mean_0, income_std = 50000, 15000\n",
    "income_mean_1 = 75000  # Slightly different mean\n",
    "\n",
    "purchases_mean_0, purchases_std = 20, 10\n",
    "purchases_mean_1 = 30  # Slightly different mean\n",
    "\n",
    "\n",
    "data_0 = {\n",
    "    'Age': np.random.normal(age_mean_0, age_std, size_per_group),\n",
    "    'Income': np.random.normal(income_mean_0, income_std, size_per_group),\n",
    "    'Purchases': np.random.normal(purchases_mean_0, purchases_std, size_per_group),\n",
    "    'Will_Buy': [\"No\" for i in range(size_per_group)]\n",
    "}\n",
    "\n",
    "data_1 = {\n",
    "    'Age': np.random.normal(age_mean_1, age_std, size_per_group),\n",
    "    'Income': np.random.normal(income_mean_1, income_std, size_per_group),\n",
    "    'Purchases': np.random.normal(purchases_mean_1, purchases_std, size_per_group),\n",
    "    'Will_Buy': [\"Yes\" for i in range(size_per_group)]\n",
    "}\n",
    "\n",
    "# Create DataFrames and concatenate them\n",
    "df_0 = pd.DataFrame(data_0)\n",
    "df_1 = pd.DataFrame(data_1)\n",
    "df = pd.concat([df_0, df_1], axis=0).reset_index(drop=True)\n",
    "\n",
    "df.head()\n"
   ]
  },
  {
   "cell_type": "code",
   "execution_count": 25,
   "id": "5757d6ed",
   "metadata": {},
   "outputs": [
    {
     "name": "stdout",
     "output_type": "stream",
     "text": [
      "Accuracy of MLP Classifier trained on whole data: 50.00%\n"
     ]
    }
   ],
   "source": [
    "from sklearn.neural_network import MLPClassifier\n",
    "from sklearn.metrics import accuracy_score\n",
    "\n",
    "# Feature matrix and target vector\n",
    "X = df[['Age', 'Income', 'Purchases']]\n",
    "y = df['Will_Buy']\n",
    "\n",
    "\n",
    "# Create and train the MLP classifier\n",
    "mlp = MLPClassifier(hidden_layer_sizes=(10,5), random_state=42)\n",
    "mlp.fit(X, y)\n",
    "\n",
    "# Predict on the same data\n",
    "y_pred = mlp.predict(X)\n",
    "\n",
    "# Evaluate accuracy\n",
    "accuracy = accuracy_score(y, y_pred)\n",
    "print(f\"Accuracy of MLP Classifier trained on whole data: {accuracy * 100:.2f}%\")"
   ]
  },
  {
   "cell_type": "code",
   "execution_count": 26,
   "id": "f0220497",
   "metadata": {},
   "outputs": [
    {
     "name": "stdout",
     "output_type": "stream",
     "text": [
      "Accuracy of MLP Classifier trained on 1000 epochs: 51.45%\n"
     ]
    },
    {
     "name": "stderr",
     "output_type": "stream",
     "text": [
      "/home/mbadriah/.local/lib/python3.10/site-packages/sklearn/neural_network/_multilayer_perceptron.py:702: ConvergenceWarning: Stochastic Optimizer: Maximum iterations (1000) reached and the optimization hasn't converged yet.\n",
      "  warnings.warn(\n"
     ]
    }
   ],
   "source": [
    "n_epoch=1000\n",
    "\n",
    "# Create and train the MLP classifier\n",
    "mlp = MLPClassifier(hidden_layer_sizes=(10,5), max_iter=n_epoch, n_iter_no_change = n_epoch, random_state=42)\n",
    "mlp.fit(X, y)\n",
    "\n",
    "# Predict on the same data\n",
    "y_pred = mlp.predict(X)\n",
    "\n",
    "# Evaluate accuracy\n",
    "accuracy = accuracy_score(y, y_pred)\n",
    "print(f\"Accuracy of MLP Classifier trained on {n_epoch:1d} epochs: {accuracy * 100:.2f}%\")"
   ]
  },
  {
   "cell_type": "code",
   "execution_count": 27,
   "id": "6adac0f0",
   "metadata": {},
   "outputs": [
    {
     "name": "stdout",
     "output_type": "stream",
     "text": [
      "Accuracy of MLP Classifier trained on 10000 epochs: 82.35%\n"
     ]
    },
    {
     "name": "stderr",
     "output_type": "stream",
     "text": [
      "/home/mbadriah/.local/lib/python3.10/site-packages/sklearn/neural_network/_multilayer_perceptron.py:702: ConvergenceWarning: Stochastic Optimizer: Maximum iterations (10000) reached and the optimization hasn't converged yet.\n",
      "  warnings.warn(\n"
     ]
    }
   ],
   "source": [
    "n_epoch=10000\n",
    "\n",
    "# Create and train the MLP classifier\n",
    "mlp = MLPClassifier(hidden_layer_sizes=(10,5), max_iter=n_epoch, n_iter_no_change = n_epoch, random_state=42)\n",
    "mlp.fit(X, y)\n",
    "\n",
    "# Predict on the same data\n",
    "y_pred = mlp.predict(X)\n",
    "\n",
    "# Evaluate accuracy\n",
    "accuracy = accuracy_score(y, y_pred)\n",
    "print(f\"Accuracy of MLP Classifier trained on {n_epoch:1d} epochs: {accuracy * 100:.2f}%\")"
   ]
  },
  {
   "cell_type": "markdown",
   "id": "895c6703",
   "metadata": {},
   "source": [
    "## Homework Assignment\n",
    "\n",
    "In this homework assignment, you will apply what you have learned about training neural networks and explore the influence of various factors on model performance. Your tasks will involve experimenting with simulated data, applying techniques to real datasets, and using Network Architecture Search (NAS) to optimize neural network structures.\n",
    "\n",
    "### Objectives:\n",
    "1. **Explore the Effects of Data Characteristics and Model Architecture:**\n",
    "   - **Sample Size**: Vary the number of samples in your simulated data. Observe how increasing or decreasing the sample size affects the model's performance.\n",
    "   - **Feature Differentiation**: Modify the means of the features in the simulated data to be closer or further apart (e.g., adjusting the mean income of the 'Will_Buy' groups from 50000 and 55000 to 50000 and 70000). Assess how these changes impact the model's accuracy and tendency to overfit or underfit.\n",
    "   - **Layer Structures**: Experiment with the following five different neural network structures to understand how architecture complexity influences performance:\n",
    "     1. `(50,)` - A single hidden layer with 50 neurons.\n",
    "     2. `(100, 50)` - Two layers with 100 and 50 neurons, respectively.\n",
    "     3. `(50, 50, 50)` - Three layers, each with 50 neurons.\n",
    "     4. `(100, 100, 50, 50)` - Four layers with varying neuron counts.\n",
    "     5. `(20, 20, 20, 20, 20)` - Five layers, each with 20 neurons.\n",
    "   - **Implementation**: Use the adjusted parameters to train your models on the simulated data and observe the changes in performance.\n",
    "\n",
    "2. **Apply the Model to the Real Dataset:**\n",
    "   - **Dataset Selection**: Use the \"small dataset\" provided.\n",
    "   - **Implementation Details**: Import the dataset using `pandas` and `numpy`. Follow the straightforward neural network training approach demonstrated earlier in the session. There's no need for preprocessing, data splitting, cross-validation, or other complex procedures—just a simple implementation to classify using the neural network as described above.\n",
    "\n",
    "\n",
    "3. **Network Architecture Search (NAS):**\n",
    "   - For the small dataset , conduct a NAS to find the optimal architecture and epoch numbers.\n",
    "   - Document all configurations tested along with their outcomes. Use `matplotlib` to create visual representations that clearly show how different network structures and training durations impact the model's accuracy. \n",
    "    - **Suggested Plots**:\n",
    "        - **Accuracy Plot**: Create a line plot to display the accuracy of each model configuration over the epochs. This plot should have epochs on the x-axis and accuracy on the y-axis, allowing you to visualize the learning curve for each tested architecture.\n",
    "        - **Bar Chart of Final Accuracies**: Use a bar chart to compare the final accuracy of different models after all epochs have completed. This gives a quick visual comparison of how different configurations performed.\n",
    "        - **Heatmap of Performance Metrics**: For testing a grid of parameters, such as different numbers of layers and epochs, a heatmap can be effective in showing which combinations yield the best results in terms of accuracy or other metrics.\n",
    "\n",
    "    - Ensure each plot is clearly labeled with axis titles, a legend (if necessary), and a descriptive title that explains what the plot shows. This visual documentation will be crucial in understanding the effectiveness of different network architectures and training strategies in your NAS.\n"
   ]
  }
 ],
 "metadata": {
  "kernelspec": {
   "display_name": "Python 3.10",
   "language": "python",
   "name": "python3.10"
  },
  "language_info": {
   "codemirror_mode": {
    "name": "ipython",
    "version": 3
   },
   "file_extension": ".py",
   "mimetype": "text/x-python",
   "name": "python",
   "nbconvert_exporter": "python",
   "pygments_lexer": "ipython3",
   "version": "3.10.4"
  }
 },
 "nbformat": 4,
 "nbformat_minor": 5
}
